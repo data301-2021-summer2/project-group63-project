{
 "cells": [
  {
   "cell_type": "code",
   "execution_count": 13,
   "id": "8fd3f20f-9068-4450-9663-2687feffe2c4",
   "metadata": {},
   "outputs": [],
   "source": [
    "import seaborn as sns "
   ]
  },
  {
   "cell_type": "code",
   "execution_count": 1,
   "id": "fe464ff2-0dfc-43bc-9e48-969cf696939f",
   "metadata": {},
   "outputs": [
    {
     "data": {
      "text/html": [
       "<div>\n",
       "<style scoped>\n",
       "    .dataframe tbody tr th:only-of-type {\n",
       "        vertical-align: middle;\n",
       "    }\n",
       "\n",
       "    .dataframe tbody tr th {\n",
       "        vertical-align: top;\n",
       "    }\n",
       "\n",
       "    .dataframe thead th {\n",
       "        text-align: right;\n",
       "    }\n",
       "</style>\n",
       "<table border=\"1\" class=\"dataframe\">\n",
       "  <thead>\n",
       "    <tr style=\"text-align: right;\">\n",
       "      <th></th>\n",
       "      <th>Site</th>\n",
       "      <th>Year</th>\n",
       "      <th>Species</th>\n",
       "      <th>Temperature</th>\n",
       "      <th>Temp_Range</th>\n",
       "    </tr>\n",
       "  </thead>\n",
       "  <tbody>\n",
       "    <tr>\n",
       "      <th>0</th>\n",
       "      <td>PRWI 2</td>\n",
       "      <td>2007</td>\n",
       "      <td>Eastern Wood-Pewee</td>\n",
       "      <td>18.5</td>\n",
       "      <td>10-20</td>\n",
       "    </tr>\n",
       "    <tr>\n",
       "      <th>1</th>\n",
       "      <td>PRWI 2</td>\n",
       "      <td>2007</td>\n",
       "      <td>Red-eyed Vireo</td>\n",
       "      <td>18.5</td>\n",
       "      <td>10-20</td>\n",
       "    </tr>\n",
       "    <tr>\n",
       "      <th>2</th>\n",
       "      <td>PRWI 2</td>\n",
       "      <td>2007</td>\n",
       "      <td>American Goldfinch</td>\n",
       "      <td>18.5</td>\n",
       "      <td>10-20</td>\n",
       "    </tr>\n",
       "    <tr>\n",
       "      <th>3</th>\n",
       "      <td>PRWI 2</td>\n",
       "      <td>2007</td>\n",
       "      <td>Ovenbird</td>\n",
       "      <td>18.5</td>\n",
       "      <td>10-20</td>\n",
       "    </tr>\n",
       "    <tr>\n",
       "      <th>4</th>\n",
       "      <td>PRWI 2</td>\n",
       "      <td>2007</td>\n",
       "      <td>Eastern Tufted Titmouse</td>\n",
       "      <td>18.5</td>\n",
       "      <td>10-20</td>\n",
       "    </tr>\n",
       "    <tr>\n",
       "      <th>...</th>\n",
       "      <td>...</td>\n",
       "      <td>...</td>\n",
       "      <td>...</td>\n",
       "      <td>...</td>\n",
       "      <td>...</td>\n",
       "    </tr>\n",
       "    <tr>\n",
       "      <th>29106</th>\n",
       "      <td>PRWI 22</td>\n",
       "      <td>2017</td>\n",
       "      <td>Eastern Tufted Titmouse</td>\n",
       "      <td>21.0</td>\n",
       "      <td>20-30</td>\n",
       "    </tr>\n",
       "    <tr>\n",
       "      <th>29107</th>\n",
       "      <td>PRWI 22</td>\n",
       "      <td>2017</td>\n",
       "      <td>Hairy Woodpecker</td>\n",
       "      <td>21.0</td>\n",
       "      <td>20-30</td>\n",
       "    </tr>\n",
       "    <tr>\n",
       "      <th>29108</th>\n",
       "      <td>PRWI 22</td>\n",
       "      <td>2017</td>\n",
       "      <td>Red-eyed Vireo</td>\n",
       "      <td>21.0</td>\n",
       "      <td>20-30</td>\n",
       "    </tr>\n",
       "    <tr>\n",
       "      <th>29109</th>\n",
       "      <td>PRWI 22</td>\n",
       "      <td>2017</td>\n",
       "      <td>American Robin</td>\n",
       "      <td>21.0</td>\n",
       "      <td>20-30</td>\n",
       "    </tr>\n",
       "    <tr>\n",
       "      <th>29110</th>\n",
       "      <td>PRWI 22</td>\n",
       "      <td>2017</td>\n",
       "      <td>Eastern Tufted Titmouse</td>\n",
       "      <td>21.0</td>\n",
       "      <td>20-30</td>\n",
       "    </tr>\n",
       "  </tbody>\n",
       "</table>\n",
       "<p>29111 rows × 5 columns</p>\n",
       "</div>"
      ],
      "text/plain": [
       "          Site  Year                  Species  Temperature Temp_Range\n",
       "0       PRWI 2  2007       Eastern Wood-Pewee         18.5      10-20\n",
       "1       PRWI 2  2007           Red-eyed Vireo         18.5      10-20\n",
       "2       PRWI 2  2007       American Goldfinch         18.5      10-20\n",
       "3       PRWI 2  2007                 Ovenbird         18.5      10-20\n",
       "4       PRWI 2  2007  Eastern Tufted Titmouse         18.5      10-20\n",
       "...        ...   ...                      ...          ...        ...\n",
       "29106  PRWI 22  2017  Eastern Tufted Titmouse         21.0      20-30\n",
       "29107  PRWI 22  2017         Hairy Woodpecker         21.0      20-30\n",
       "29108  PRWI 22  2017           Red-eyed Vireo         21.0      20-30\n",
       "29109  PRWI 22  2017           American Robin         21.0      20-30\n",
       "29110  PRWI 22  2017  Eastern Tufted Titmouse         21.0      20-30\n",
       "\n",
       "[29111 rows x 5 columns]"
      ]
     },
     "execution_count": 1,
     "metadata": {},
     "output_type": "execute_result"
    }
   ],
   "source": [
    "# I'll start by using the function I built to clean and process the data \n",
    "import project_functions\n",
    "from pandas_profiling import ProfileReport\n",
    "df = project_functions.clean_and_process('/Users/evanlewis/data301/Project/project-group53-project/data/raw/PRWI_Data.csv')\n",
    "df"
   ]
  },
  {
   "cell_type": "code",
   "execution_count": 2,
   "id": "6c600787-4992-44fe-a902-dfd81f54f8dc",
   "metadata": {},
   "outputs": [
    {
     "data": {
      "text/html": [
       "<div>\n",
       "<style scoped>\n",
       "    .dataframe tbody tr th:only-of-type {\n",
       "        vertical-align: middle;\n",
       "    }\n",
       "\n",
       "    .dataframe tbody tr th {\n",
       "        vertical-align: top;\n",
       "    }\n",
       "\n",
       "    .dataframe thead th {\n",
       "        text-align: right;\n",
       "    }\n",
       "</style>\n",
       "<table border=\"1\" class=\"dataframe\">\n",
       "  <thead>\n",
       "    <tr style=\"text-align: right;\">\n",
       "      <th></th>\n",
       "      <th>Year</th>\n",
       "      <th>Temperature</th>\n",
       "    </tr>\n",
       "  </thead>\n",
       "  <tbody>\n",
       "    <tr>\n",
       "      <th>count</th>\n",
       "      <td>29111.000000</td>\n",
       "      <td>29111.000000</td>\n",
       "    </tr>\n",
       "    <tr>\n",
       "      <th>mean</th>\n",
       "      <td>2011.920271</td>\n",
       "      <td>21.065628</td>\n",
       "    </tr>\n",
       "    <tr>\n",
       "      <th>std</th>\n",
       "      <td>3.115370</td>\n",
       "      <td>3.713147</td>\n",
       "    </tr>\n",
       "    <tr>\n",
       "      <th>min</th>\n",
       "      <td>2007.000000</td>\n",
       "      <td>0.000000</td>\n",
       "    </tr>\n",
       "    <tr>\n",
       "      <th>25%</th>\n",
       "      <td>2009.000000</td>\n",
       "      <td>19.000000</td>\n",
       "    </tr>\n",
       "    <tr>\n",
       "      <th>50%</th>\n",
       "      <td>2012.000000</td>\n",
       "      <td>21.400000</td>\n",
       "    </tr>\n",
       "    <tr>\n",
       "      <th>75%</th>\n",
       "      <td>2014.000000</td>\n",
       "      <td>23.400000</td>\n",
       "    </tr>\n",
       "    <tr>\n",
       "      <th>max</th>\n",
       "      <td>2017.000000</td>\n",
       "      <td>40.900002</td>\n",
       "    </tr>\n",
       "  </tbody>\n",
       "</table>\n",
       "</div>"
      ],
      "text/plain": [
       "               Year   Temperature\n",
       "count  29111.000000  29111.000000\n",
       "mean    2011.920271     21.065628\n",
       "std        3.115370      3.713147\n",
       "min     2007.000000      0.000000\n",
       "25%     2009.000000     19.000000\n",
       "50%     2012.000000     21.400000\n",
       "75%     2014.000000     23.400000\n",
       "max     2017.000000     40.900002"
      ]
     },
     "execution_count": 2,
     "metadata": {},
     "output_type": "execute_result"
    }
   ],
   "source": [
    "# Using .describe to get an idea of how the temperature variable is distributed\n",
    "df.describe()"
   ]
  },
  {
   "cell_type": "code",
   "execution_count": 3,
   "id": "6df4062d-a92e-4fcf-9a26-49bd850652a7",
   "metadata": {},
   "outputs": [
    {
     "data": {
      "text/plain": [
       "Site            22\n",
       "Year            11\n",
       "Species        116\n",
       "Temperature    195\n",
       "Temp_Range       5\n",
       "dtype: int64"
      ]
     },
     "execution_count": 3,
     "metadata": {},
     "output_type": "execute_result"
    }
   ],
   "source": [
    "# This shows me the unique values for each column, I was mostly interested in seeing how many total species there are\n",
    "df.nunique(axis=0)"
   ]
  },
  {
   "cell_type": "code",
   "execution_count": 4,
   "id": "d03fd8f0-88dc-40ca-a877-c00706587e52",
   "metadata": {},
   "outputs": [
    {
     "data": {
      "text/html": [
       "<div>\n",
       "<style scoped>\n",
       "    .dataframe tbody tr th:only-of-type {\n",
       "        vertical-align: middle;\n",
       "    }\n",
       "\n",
       "    .dataframe tbody tr th {\n",
       "        vertical-align: top;\n",
       "    }\n",
       "\n",
       "    .dataframe thead th {\n",
       "        text-align: right;\n",
       "    }\n",
       "</style>\n",
       "<table border=\"1\" class=\"dataframe\">\n",
       "  <thead>\n",
       "    <tr style=\"text-align: right;\">\n",
       "      <th></th>\n",
       "      <th>Year</th>\n",
       "      <th>Temperature</th>\n",
       "    </tr>\n",
       "  </thead>\n",
       "  <tbody>\n",
       "    <tr>\n",
       "      <th>0</th>\n",
       "      <td>2007</td>\n",
       "      <td>20.644052</td>\n",
       "    </tr>\n",
       "    <tr>\n",
       "      <th>1</th>\n",
       "      <td>2008</td>\n",
       "      <td>19.761916</td>\n",
       "    </tr>\n",
       "    <tr>\n",
       "      <th>2</th>\n",
       "      <td>2009</td>\n",
       "      <td>17.421895</td>\n",
       "    </tr>\n",
       "    <tr>\n",
       "      <th>3</th>\n",
       "      <td>2010</td>\n",
       "      <td>21.752809</td>\n",
       "    </tr>\n",
       "    <tr>\n",
       "      <th>4</th>\n",
       "      <td>2011</td>\n",
       "      <td>23.127175</td>\n",
       "    </tr>\n",
       "    <tr>\n",
       "      <th>5</th>\n",
       "      <td>2012</td>\n",
       "      <td>23.514251</td>\n",
       "    </tr>\n",
       "    <tr>\n",
       "      <th>6</th>\n",
       "      <td>2013</td>\n",
       "      <td>22.107407</td>\n",
       "    </tr>\n",
       "    <tr>\n",
       "      <th>7</th>\n",
       "      <td>2014</td>\n",
       "      <td>18.873539</td>\n",
       "    </tr>\n",
       "    <tr>\n",
       "      <th>8</th>\n",
       "      <td>2015</td>\n",
       "      <td>21.097082</td>\n",
       "    </tr>\n",
       "    <tr>\n",
       "      <th>9</th>\n",
       "      <td>2016</td>\n",
       "      <td>23.375590</td>\n",
       "    </tr>\n",
       "    <tr>\n",
       "      <th>10</th>\n",
       "      <td>2017</td>\n",
       "      <td>20.709895</td>\n",
       "    </tr>\n",
       "  </tbody>\n",
       "</table>\n",
       "</div>"
      ],
      "text/plain": [
       "    Year  Temperature\n",
       "0   2007    20.644052\n",
       "1   2008    19.761916\n",
       "2   2009    17.421895\n",
       "3   2010    21.752809\n",
       "4   2011    23.127175\n",
       "5   2012    23.514251\n",
       "6   2013    22.107407\n",
       "7   2014    18.873539\n",
       "8   2015    21.097082\n",
       "9   2016    23.375590\n",
       "10  2017    20.709895"
      ]
     },
     "execution_count": 4,
     "metadata": {},
     "output_type": "execute_result"
    }
   ],
   "source": [
    "#going to start with some plots to get an idea of trends in the data. \n",
    "\n",
    "temp_by_year = df[['Temperature', 'Year']]\n",
    "temp_by_year = temp_by_year.groupby('Year', as_index = False).mean()\n",
    "temp_by_year"
   ]
  },
  {
   "cell_type": "code",
   "execution_count": 29,
   "id": "34ffce00-dddf-4327-8868-1df204f5ecac",
   "metadata": {},
   "outputs": [
    {
     "data": {
      "text/plain": [
       "<AxesSubplot:xlabel='Year', ylabel='Temperature'>"
      ]
     },
     "execution_count": 29,
     "metadata": {},
     "output_type": "execute_result"
    },
    {
     "data": {
      "image/png": "[encoded data removed]",
      "text/plain": [
       "<Figure size 432x288 with 1 Axes>"
      ]
     },
     "metadata": {
      "needs_background": "light"
     },
     "output_type": "display_data"
    }
   ],
   "source": [
    "#going to use reggression plots to show a trend, I recognize that the trend is visual, and likely not significant but I feel that's outside the scope of the class\n",
    "sns.regplot(data=temp_by_year, y = 'Temperature', x='Year')"
   ]
  },
  {
   "cell_type": "markdown",
   "id": "a6109736-c1dd-497a-9aa9-5340a1764e01",
   "metadata": {},
   "source": [
    "### This shows an upward trend in temperatures, as expected."
   ]
  },
  {
   "cell_type": "code",
   "execution_count": 41,
   "id": "b0800153-3224-47df-9211-3ac30fcb02d6",
   "metadata": {},
   "outputs": [
    {
     "data": {
      "text/plain": [
       "<AxesSubplot:xlabel='Year', ylabel='Species'>"
      ]
     },
     "execution_count": 41,
     "metadata": {},
     "output_type": "execute_result"
    },
    {
     "data": {
      "image/png": "[encoded data removed]",
      "text/plain": [
       "<Figure size 432x288 with 1 Axes>"
      ]
     },
     "metadata": {
      "needs_background": "light"
     },
     "output_type": "display_data"
    }
   ],
   "source": [
    "# Now I want to see what the trend in observations over the years is, using a count of species as the index \n",
    "\n",
    "yearly_observations = df[['Year','Species']]\n",
    "yearly_observations = yearly_observations.groupby('Year', as_index = False).count()\n",
    "sns.barplot(data=yearly_observations, x='Year', y='Species')"
   ]
  },
  {
   "cell_type": "code",
   "execution_count": 42,
   "id": "30af188c-3565-418c-b7a8-19907cef1f12",
   "metadata": {},
   "outputs": [
    {
     "data": {
      "text/plain": [
       "<AxesSubplot:xlabel='Year', ylabel='Species'>"
      ]
     },
     "execution_count": 42,
     "metadata": {},
     "output_type": "execute_result"
    },
    {
     "data": {
      "image/png": "[encoded data removed]",
      "text/plain": [
       "<Figure size 432x288 with 1 Axes>"
      ]
     },
     "metadata": {
      "needs_background": "light"
     },
     "output_type": "display_data"
    }
   ],
   "source": [
    "#No obvious trend in the bar plot, but a regression may show a trend \n",
    "sns.regplot(data=yearly_observations,x='Year',y='Species')"
   ]
  },
  {
   "cell_type": "markdown",
   "id": "58cf1ffe-5501-4df0-b420-7500633d8cda",
   "metadata": {},
   "source": [
    "### A downward trend that seems fairly correlated with the temp chart, even the 2014 data point is very high on a cooler year. Neat"
   ]
  },
  {
   "cell_type": "code",
   "execution_count": 53,
   "id": "a0602cbd-6a55-4111-a32f-3721c2161e7b",
   "metadata": {},
   "outputs": [
    {
     "data": {
      "text/plain": [
       "<AxesSubplot:xlabel='Temp_Range', ylabel='Species'>"
      ]
     },
     "execution_count": 53,
     "metadata": {},
     "output_type": "execute_result"
    },
    {
     "data": {
      "image/png": "[encoded data removed]",
      "text/plain": [
       "<Figure size 432x288 with 1 Axes>"
      ]
     },
     "metadata": {
      "needs_background": "light"
     },
     "output_type": "display_data"
    }
   ],
   "source": [
    "#going to try and see if my temperature classes give any insight\n",
    "\n",
    "obs_class = df[['Temp_Range','Species']]\n",
    "obs_class = obs_class.groupby('Temp_Range', as_index=False).count()\n",
    "sns.barplot(data=obs_class, x='Temp_Range', y='Species')"
   ]
  },
  {
   "cell_type": "markdown",
   "id": "5258e3bc-7f2c-4282-b114-d903b61bcb6b",
   "metadata": {},
   "source": [
    "I was excited to see this plot, where a large majority of the observations are in the cooler temp ranges. Then I realized this is a base rate fallacy, and has nothing to do with the likeliness of observing a bird based on temperature. Oops!"
   ]
  },
  {
   "cell_type": "markdown",
   "id": "8b563830-b7ca-4793-8f56-19d97c87279a",
   "metadata": {},
   "source": [
    "### I feel like this has given me a good enough idea of what I'm looking at and what to focus on to answer my question, so i am going to end the EDA here and move on to the Full analysis"
   ]
  },
  {
   "cell_type": "markdown",
   "id": "59e8aea0-5a64-4b55-9288-2d334bd088e2",
   "metadata": {},
   "source": [
    "# EDA Complete"
   ]
  },
  {
   "cell_type": "code",
   "execution_count": null,
   "id": "c70da1d4-a23f-4702-a7b2-8d36ec8aa06b",
   "metadata": {},
   "outputs": [],
   "source": []
  }
 ],
 "metadata": {
  "kernelspec": {
   "display_name": "Python 3 (ipykernel)",
   "language": "python",
   "name": "python3"
  },
  "language_info": {
   "codemirror_mode": {
    "name": "ipython",
    "version": 3
   },
   "file_extension": ".py",
   "mimetype": "text/x-python",
   "name": "python",
   "nbconvert_exporter": "python",
   "pygments_lexer": "ipython3",
   "version": "3.8.5"
  }
 },
 "nbformat": 4,
 "nbformat_minor": 5
}
